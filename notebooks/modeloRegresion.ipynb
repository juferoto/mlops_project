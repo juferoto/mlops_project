{
 "cells": [
  {
   "cell_type": "markdown",
   "id": "d630adff-22ef-42cd-b053-dcb16bde470e",
   "metadata": {},
   "source": [
    "## Paquetes Basicos"
   ]
  },
  {
   "cell_type": "code",
   "execution_count": 1,
   "id": "2ad16435-43a5-4e1e-8acf-5f29a4a43074",
   "metadata": {},
   "outputs": [],
   "source": [
    "import os\n",
    "import cv2\n",
    "import numpy as np\n",
    "import matplotlib.pyplot as plt"
   ]
  },
  {
   "cell_type": "markdown",
   "id": "38022d01-cd26-4e9e-bcea-d6ae5bc55eca",
   "metadata": {},
   "source": [
    "## Normalizar el tamaño de las imagenes"
   ]
  },
  {
   "cell_type": "code",
   "execution_count": 2,
   "id": "1b0d7b80-051f-4ce2-8a4b-49cc2f4961a3",
   "metadata": {},
   "outputs": [],
   "source": [
    "input_dir = r\"D:\\proyectoGrado\\DatosAguacate\"\n",
    "categories = ['sin_plaga', 'plaga']\n",
    "\n",
    "data_sin_plagas = []\n",
    "data_plagas = []\n",
    "labels_sin_plagas = []\n",
    "labels_plagas = []\n",
    "for category_idx, category in enumerate(categories):\n",
    "    for file in os.listdir(os.path.join(input_dir, category)):\n",
    "        img_path = os.path.join(input_dir, category, file)\n",
    "\n",
    "        img = cv2.imread(img_path) \n",
    "        image_rgb = cv2.cvtColor(img, cv2.COLOR_BGR2RGB)\n",
    "        scaled_image = cv2.resize(src=image_rgb,  \n",
    "                          dsize=(640, 640))\n",
    "        if category == 'sin_plaga':\n",
    "            data_sin_plagas.append(scaled_image.flatten())\n",
    "            labels_sin_plagas.append(category_idx)\n",
    "        else:\n",
    "            data_plagas.append(scaled_image.flatten())\n",
    "            labels_plagas.append(category_idx)\n",
    "\n",
    "data_sin_plagas = np.asarray(data_sin_plagas)\n",
    "labels_sin_plagas = np.asarray(labels_sin_plagas)\n",
    "data_plagas = np.asarray(data_plagas)\n",
    "labels_plagas = np.asarray(labels_plagas)"
   ]
  },
  {
   "cell_type": "markdown",
   "id": "a5123651-846f-4e1f-b6a1-0c26e98dc4c3",
   "metadata": {},
   "source": [
    "## Entrenar el modelo de regresión lógistica"
   ]
  },
  {
   "cell_type": "code",
   "execution_count": 2,
   "id": "1754adcf-f0a4-4455-bdfe-7e9590f08b14",
   "metadata": {},
   "outputs": [],
   "source": [
    "from sklearn.linear_model import LogisticRegression\n",
    "from sklearn.metrics import accuracy_score, precision_score, recall_score\n",
    "from sklearn.model_selection import train_test_split\n",
    "from sklearn.metrics import confusion_matrix, ConfusionMatrixDisplay"
   ]
  },
  {
   "cell_type": "code",
   "execution_count": 4,
   "id": "d7153e5d-93e7-454a-8ac1-ac0bbba3afd1",
   "metadata": {},
   "outputs": [],
   "source": [
    "matrices_confusion = []\n",
    "\n",
    "# Repetir el proceso de entrenamiento y evaluación 10 veces\n",
    "for _ in range(10):\n",
    "    # Realizar subsampling en la clase mayoritaria\n",
    "    indices_resample = np.random.choice(len(data_plagas), size=50, replace=True)\n",
    "    \n",
    "    data_plagas_resample = np.asarray(data_plagas)[indices_resample]\n",
    "    labels_plagas_resample = np.asarray(labels_plagas)[indices_resample]\n",
    "\n",
    "    # Combinar datos de 'sin_plaga' y datos resampleados de 'plaga'\n",
    "    data_resample = np.concatenate([data_sin_plagas, data_plagas_resample])\n",
    "    labels_resample = np.concatenate([labels_sin_plagas, labels_plagas_resample])\n",
    "\n",
    "    # Dividir los datos en conjuntos de entrenamiento y prueba\n",
    "    x_train, x_test, y_train, y_test = train_test_split(\n",
    "        data_resample, labels_resample, test_size=0.2, shuffle=True\n",
    "    )\n",
    "\n",
    "    # Inicializar el modelo de regresión logística\n",
    "    modelo = LogisticRegression()\n",
    "\n",
    "    # Entrenar el modelo\n",
    "    modelo.fit(x_train, y_train)\n",
    "\n",
    "    # Realizar predicciones en el conjunto de prueba\n",
    "    y_pred = modelo.predict(x_test)\n",
    "\n",
    "    # Calcular la matriz de confusión y almacenarla\n",
    "    matriz_confusion = confusion_matrix(y_test, y_pred)\n",
    "    matrices_confusion.append(matriz_confusion)"
   ]
  },
  {
   "cell_type": "markdown",
   "id": "e291ace7-a6fa-4858-ae50-cdbc0cf742ca",
   "metadata": {},
   "source": [
    "## Evaluación de desempeño"
   ]
  },
  {
   "cell_type": "code",
   "execution_count": 5,
   "id": "e01c85bb-ad43-4b14-b19d-44442ac981c0",
   "metadata": {},
   "outputs": [
    {
     "data": {
      "image/png": "[encoded data removed]",
      "text/plain": [
       "<Figure size 640x480 with 2 Axes>"
      ]
     },
     "metadata": {},
     "output_type": "display_data"
    },
    {
     "name": "stdout",
     "output_type": "stream",
     "text": [
      "Accuracy promedio en 10 ejecuciones: 100.0\n",
      "Precision promedio en 10 ejecuciones: 100.0\n",
      "Recall promedio en 10 ejecuciones: 100.0\n"
     ]
    }
   ],
   "source": [
    "matriz_confusion_promedio = np.mean(matrices_confusion, axis=0)\n",
    "\n",
    "disp = ConfusionMatrixDisplay(confusion_matrix=matriz_confusion_promedio, display_labels=['sin_plaga', 'plaga'])\n",
    "disp.plot(cmap='Blues', values_format='.2f')\n",
    "plt.title('Matriz de Confusión Promedio')\n",
    "plt.show()\n",
    "\n",
    "# Calcular el recall para las plagas\n",
    "recall = matriz_confusion_promedio[1, 1] / (matriz_confusion_promedio[1, 1] + matriz_confusion_promedio[1, 0])\n",
    "\n",
    "# Calcular el accuracy\n",
    "accuracy = (matriz_confusion_promedio[0, 0] + matriz_confusion_promedio[1, 1]) / np.sum(matriz_confusion_promedio)\n",
    "\n",
    "# Calcular la precision\n",
    "precision = matriz_confusion_promedio[1, 1] / (matriz_confusion_promedio[1, 1] + matriz_confusion_promedio[0, 1])\n",
    "\n",
    "\n",
    "print(f'Accuracy promedio en 10 ejecuciones: {accuracy*100}')\n",
    "print(f'Precision promedio en 10 ejecuciones: {precision*100}')\n",
    "print(f'Recall promedio en 10 ejecuciones: {recall*100}')"
   ]
  }
 ],
 "metadata": {
  "kernelspec": {
   "display_name": "Python 3 (ipykernel)",
   "language": "python",
   "name": "python3"
  },
  "language_info": {
   "codemirror_mode": {
    "name": "ipython",
    "version": 3
   },
   "file_extension": ".py",
   "mimetype": "text/x-python",
   "name": "python",
   "nbconvert_exporter": "python",
   "pygments_lexer": "ipython3",
   "version": "3.11.5"
  }
 },
 "nbformat": 4,
 "nbformat_minor": 5
}
