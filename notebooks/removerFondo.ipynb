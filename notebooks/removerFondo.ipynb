{
 "cells": [
  {
   "cell_type": "markdown",
   "id": "298701cf-f0fa-4924-8d67-1cfd6dfe3b8e",
   "metadata": {},
   "source": [
    "## Paquetes basicos"
   ]
  },
  {
   "cell_type": "code",
   "execution_count": 1,
   "id": "58ad5c8f-4a37-406c-99e3-367107d926bc",
   "metadata": {},
   "outputs": [],
   "source": [
    "import os\n",
    "\n",
    "from rembg import remove \n",
    "from PIL import Image"
   ]
  },
  {
   "cell_type": "markdown",
   "id": "b3180165-8de2-4d92-b2be-b24a7f977609",
   "metadata": {},
   "source": [
    "## Remover fondo de todo el conjunto de datos"
   ]
  },
  {
   "cell_type": "code",
   "execution_count": 1,
   "id": "b249c32d-3361-4795-8430-262a6ffdcec4",
   "metadata": {},
   "outputs": [],
   "source": [
    "input_dir = r\"D:\\proyectoGrado\\DatosAguacate\"\n",
    "categories = ['sin_plaga', 'plaga']\n",
    "\n",
    "for category_idx, category in enumerate(categories):\n",
    "    for file in os.listdir(os.path.join(input_dir, category)):\n",
    "        output_path = os.path.join(input_dir, category, file[:-4]+\".png\")\n",
    "        img_path = os.path.join(input_dir, category, file)\n",
    "        input = Image.open(img_path)\n",
    "        rgb_im = input.convert('RGB')\n",
    "        output = remove(rgb_im)\n",
    "        output.save(output_path)\n"
   ]
  }
 ],
 "metadata": {
  "kernelspec": {
   "display_name": "Python 3 (ipykernel)",
   "language": "python",
   "name": "python3"
  },
  "language_info": {
   "codemirror_mode": {
    "name": "ipython",
    "version": 3
   },
   "file_extension": ".py",
   "mimetype": "text/x-python",
   "name": "python",
   "nbconvert_exporter": "python",
   "pygments_lexer": "ipython3",
   "version": "3.11.5"
  }
 },
 "nbformat": 4,
 "nbformat_minor": 5
}
